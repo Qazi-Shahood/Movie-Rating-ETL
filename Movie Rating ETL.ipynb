{
 "cells": [
  {
   "cell_type": "markdown",
   "metadata": {
    "application/vnd.databricks.v1+cell": {
     "cellMetadata": {
      "byteLimit": 2048000,
      "rowLimit": 10000
     },
     "inputWidgets": {},
     "nuid": "eed1b9ae-f152-4c13-989d-d5e355ad0374",
     "showTitle": false,
     "tableResultSettingsMap": {},
     "title": ""
    }
   },
   "source": [
    "Bronze Layer"
   ]
  },
  {
   "cell_type": "code",
   "execution_count": 0,
   "metadata": {
    "application/vnd.databricks.v1+cell": {
     "cellMetadata": {
      "byteLimit": 2048000,
      "rowLimit": 10000
     },
     "inputWidgets": {},
     "nuid": "fe9aac9d-ee97-47bc-8be4-d7f98ec1facd",
     "showTitle": false,
     "tableResultSettingsMap": {},
     "title": ""
    }
   },
   "outputs": [],
   "source": [
    "%python\n",
    "from pyspark.sql import SparkSession, functions as Fs\n",
    "from pyspark.sql.functions import to_date, col, udf, from_unixtime, trim, regexp_replace, split, regexp_extract\n",
    "\n",
    "spark = SparkSession.builder.appName(\"movie_rating\").getOrCreate()\n",
    "\n",
    "movie_df = spark.read.format(\"csv\") \\\n",
    "    .option(\"header\", \"true\") \\\n",
    "    .option(\"inferSchema\", \"true\") \\\n",
    "    .load(\"/Volumes/workspace/movie_rating/raw/movies.csv\") \\\n",
    "    .limit(500)\n",
    "\n",
    "rating_df = spark.read.format(\"csv\") \\\n",
    "    .option(\"header\", \"true\") \\\n",
    "    .option(\"inferSchema\", \"true\") \\\n",
    "    .load(\"/Volumes/workspace/movie_rating/raw/ratings.csv\") \\\n",
    "    .limit(500)\n"
   ]
  },
  {
   "cell_type": "markdown",
   "metadata": {
    "application/vnd.databricks.v1+cell": {
     "cellMetadata": {
      "byteLimit": 2048000,
      "rowLimit": 10000
     },
     "inputWidgets": {},
     "nuid": "ab369663-0618-4651-af05-03ac26e3db2d",
     "showTitle": false,
     "tableResultSettingsMap": {},
     "title": ""
    }
   },
   "source": [
    "Silver Layer"
   ]
  },
  {
   "cell_type": "code",
   "execution_count": 0,
   "metadata": {
    "application/vnd.databricks.v1+cell": {
     "cellMetadata": {
      "byteLimit": 2048000,
      "rowLimit": 10000
     },
     "inputWidgets": {},
     "nuid": "fdf493b0-4dda-4b54-89e1-c4a25ea005ee",
     "showTitle": false,
     "tableResultSettingsMap": {},
     "title": ""
    }
   },
   "outputs": [],
   "source": [
    "# drop nulls\n",
    "movie_df = movie_df.na.drop()\n",
    "rating_df = rating_df.na.drop()\n",
    "\n",
    "# drop 0 ratings\n",
    "rating_df = (\n",
    "    rating_df\n",
    "    .filter(rating_df.rating > 0)\n",
    "    .withColumn(\"rating_date\", from_unixtime(col('timestamp')).cast(\"date\"))\n",
    "    .drop(\"timestamp\")\n",
    ")\n",
    "movie_df = (\n",
    "    movie_df\n",
    "    .withColumn(\"title_trim\", trim(col('title')))\n",
    "    .withColumn(\"year\", regexp_extract(col('title_trim'), r\"\\((\\d{4})\\)$\", 1).cast('int'))\n",
    "    .withColumn(\"title_clean\", regexp_extract(col('title_trim'), r\"^(.*?)(?:\\s\\(\\d{4}\\))?$\", 1))\n",
    "    .withColumn('genres_array', split(col('genres'), r\"\\|\"))\n",
    "    .drop('title', 'title_trim')\n",
    "    .withColumnRenamed('title_clean', 'title')\n",
    ")\n"
   ]
  },
  {
   "cell_type": "code",
   "execution_count": 0,
   "metadata": {
    "application/vnd.databricks.v1+cell": {
     "cellMetadata": {
      "byteLimit": 2048000,
      "rowLimit": 10000
     },
     "inputWidgets": {},
     "nuid": "fa7e4f02-c64a-4268-b9e0-c2b8537bb2bf",
     "showTitle": false,
     "tableResultSettingsMap": {},
     "title": ""
    }
   },
   "outputs": [],
   "source": [
    "# Save in Bronze layer \n",
    "rating_df.write.format(\"delta\").mode(\"overwrite\").option(\"mergeSchema\", \"true\").save(\"/Volumes/workspace/movie_rating/bronze/ratings_cleaned\")\n",
    "movie_df.write.format(\"delta\").mode(\"overwrite\").option(\"mergeSchema\", \"true\").save(\"/Volumes/workspace/movie_rating/bronze/movies_cleaned\")"
   ]
  },
  {
   "cell_type": "markdown",
   "metadata": {
    "application/vnd.databricks.v1+cell": {
     "cellMetadata": {
      "byteLimit": 2048000,
      "rowLimit": 10000
     },
     "inputWidgets": {},
     "nuid": "11045f0b-5dd2-48f4-a881-8acc8a12bb55",
     "showTitle": false,
     "tableResultSettingsMap": {},
     "title": ""
    }
   },
   "source": [
    "Bronze Layer"
   ]
  },
  {
   "cell_type": "code",
   "execution_count": 0,
   "metadata": {
    "application/vnd.databricks.v1+cell": {
     "cellMetadata": {
      "byteLimit": 2048000,
      "rowLimit": 10000
     },
     "inputWidgets": {},
     "nuid": "a7a716b7-710b-42f7-935f-0744073cc76c",
     "showTitle": false,
     "tableResultSettingsMap": {},
     "title": ""
    }
   },
   "outputs": [
    {
     "output_type": "stream",
     "name": "stdout",
     "output_type": "stream",
     "text": [
      "+------+-------+------+-----------+\n|userId|movieId|rating|rating_date|\n+------+-------+------+-----------+\n|     1|      1|   4.0| 2000-07-30|\n|     1|      3|   4.0| 2000-07-30|\n|     1|      6|   4.0| 2000-07-30|\n|     1|     47|   5.0| 2000-07-30|\n|     1|     50|   5.0| 2000-07-30|\n+------+-------+------+-----------+\nonly showing top 5 rows\n+-------+--------------------+----+--------------------+--------------------+\n|movieId|              genres|year|               title|        genres_array|\n+-------+--------------------+----+--------------------+--------------------+\n|      1|Adventure|Animati...|1995|           Toy Story|[Adventure, Anima...|\n|      2|Adventure|Childre...|1995|             Jumanji|[Adventure, Child...|\n|      3|      Comedy|Romance|1995|    Grumpier Old Men|   [Comedy, Romance]|\n|      4|Comedy|Drama|Romance|1995|   Waiting to Exhale|[Comedy, Drama, R...|\n|      5|              Comedy|1995|Father of the Bri...|            [Comedy]|\n+-------+--------------------+----+--------------------+--------------------+\nonly showing top 5 rows\n"
     ]
    }
   ],
   "source": [
    "rating_df_cleaned = spark.read.format(\"delta\").load(\"/Volumes/workspace/movie_rating/bronze/ratings_cleaned\")\n",
    "movie_df_cleaned = spark.read.format(\"delta\").load(\"/Volumes/workspace/movie_rating/bronze/movies_cleaned\")\n",
    "rating_df_cleaned.show(5)\n",
    "movie_df_cleaned.show(5)"
   ]
  },
  {
   "cell_type": "code",
   "execution_count": 0,
   "metadata": {
    "application/vnd.databricks.v1+cell": {
     "cellMetadata": {
      "byteLimit": 2048000,
      "rowLimit": 10000
     },
     "inputWidgets": {},
     "nuid": "dbb947c5-6d88-4db4-87b4-a071099fba66",
     "showTitle": false,
     "tableResultSettingsMap": {},
     "title": ""
    }
   },
   "outputs": [
    {
     "output_type": "stream",
     "name": "stdout",
     "output_type": "stream",
     "text": [
      "+-------+--------------------+----+----------------+--------------------+------+------+-----------+\n|movieId|              genres|year|           title|        genres_array|userId|rating|rating_date|\n+-------+--------------------+----+----------------+--------------------+------+------+-----------+\n|      1|Adventure|Animati...|1995|       Toy Story|[Adventure, Anima...|     1|   4.0| 2000-07-30|\n|      3|      Comedy|Romance|1995|Grumpier Old Men|   [Comedy, Romance]|     1|   4.0| 2000-07-30|\n|      6|Action|Crime|Thri...|1995|            Heat|[Action, Crime, T...|     1|   4.0| 2000-07-30|\n|     21|Comedy|Crime|Thri...|1995|      Get Shorty|[Comedy, Crime, T...|     4|   3.0| 2001-04-10|\n|     31|               Drama|1995| Dangerous Minds|             [Drama]|     3|   0.5| 2011-05-27|\n+-------+--------------------+----+----------------+--------------------+------+------+-----------+\nonly showing top 5 rows\n"
     ]
    }
   ],
   "source": [
    "merged_df = movie_df_cleaned.join(rating_df_cleaned, on='movieId', how='inner')\n",
    "merged_df.show(5)"
   ]
  },
  {
   "cell_type": "code",
   "execution_count": 0,
   "metadata": {
    "application/vnd.databricks.v1+cell": {
     "cellMetadata": {
      "byteLimit": 2048000,
      "rowLimit": 10000
     },
     "inputWidgets": {},
     "nuid": "2534a290-753f-41ea-88bc-21db12f1190d",
     "showTitle": false,
     "tableResultSettingsMap": {},
     "title": ""
    }
   },
   "outputs": [
    {
     "output_type": "stream",
     "name": "stdout",
     "output_type": "stream",
     "text": [
      "+-------+--------------------+----+----------+------------+\n|movieId|               title|year|avg_rating|total_rating|\n+-------+--------------------+----+----------+------------+\n|    333|           Tommy Boy|1995|       4.5|           2|\n|    527|    Schindler's List|1993|      2.75|           2|\n|     47|Seven (a.k.a. Se7en)|1995|       3.5|           2|\n|    260|Star Wars: Episod...|1977|       5.0|           2|\n|    441|  Dazed and Confused|1993|       2.5|           2|\n+-------+--------------------+----+----------+------------+\nonly showing top 5 rows\n"
     ]
    }
   ],
   "source": [
    "\n",
    "aggregated_df = merged_df.groupBy('movieId').agg(\n",
    "    Fs.avg('rating').alias('avg_rating'),\n",
    "    Fs.count('rating').alias('total_rating')\n",
    "    )\n",
    "\n",
    "final_df = aggregated_df.join(merged_df, on='movieId', how='inner')\n",
    "final_df = final_df.orderBy('total_rating', ascending=False)\n",
    "\n",
    "final_df = final_df.filter(final_df.total_rating < 50)\n",
    "\n",
    "final_df.select('movieId', 'title', 'year', 'avg_rating', 'total_rating').show(5)\n",
    "\n",
    "final_df.write.format('delta').mode('overwrite').option(\"overwriteSchema\", \"true\").save('/Volumes/workspace/movie_rating/gold/movie_ratings_delta')"
   ]
  },
  {
   "cell_type": "markdown",
   "metadata": {
    "application/vnd.databricks.v1+cell": {
     "cellMetadata": {},
     "inputWidgets": {},
     "nuid": "e31380e9-5af1-4546-9261-391bbcdcec95",
     "showTitle": false,
     "tableResultSettingsMap": {},
     "title": ""
    }
   },
   "source": [
    "Quality Checks"
   ]
  },
  {
   "cell_type": "code",
   "execution_count": 0,
   "metadata": {
    "application/vnd.databricks.v1+cell": {
     "cellMetadata": {
      "byteLimit": 2048000,
      "rowLimit": 10000
     },
     "inputWidgets": {},
     "nuid": "a1a6f419-9fcf-4985-a370-ccf54267ac34",
     "showTitle": false,
     "tableResultSettingsMap": {},
     "title": ""
    }
   },
   "outputs": [
    {
     "output_type": "stream",
     "name": "stdout",
     "output_type": "stream",
     "text": [
      "Bronze movies count:  500\nSilver movies count:  500\n"
     ]
    }
   ],
   "source": [
    "print(\"Bronze movies count: \", movie_df.count())\n",
    "print(\"Silver movies count: \", movie_df_cleaned.count())"
   ]
  },
  {
   "cell_type": "code",
   "execution_count": 0,
   "metadata": {
    "application/vnd.databricks.v1+cell": {
     "cellMetadata": {
      "byteLimit": 2048000,
      "rowLimit": 10000
     },
     "inputWidgets": {},
     "nuid": "228e9ee1-0024-4d94-ad91-384e25f7150b",
     "showTitle": false,
     "tableResultSettingsMap": {},
     "title": ""
    }
   },
   "outputs": [
    {
     "output_type": "execute_result",
     "data": {
      "text/plain": [
       "0"
      ]
     },
     "execution_count": 107,
     "metadata": {},
     "output_type": "execute_result"
    }
   ],
   "source": [
    "rating_df_cleaned.filter(rating_df_cleaned.rating.isNull()).count()"
   ]
  }
 ],
 "metadata": {
  "application/vnd.databricks.v1+notebook": {
   "computePreferences": {
    "hardware": {
     "accelerator": null,
     "gpuPoolId": null,
     "memory": "HIGH"
    }
   },
   "dashboards": [],
   "environmentMetadata": {
    "base_environment": "",
    "environment_version": "2"
   },
   "inputWidgetPreferences": null,
   "language": "python",
   "notebookMetadata": {
    "pythonIndentUnit": 4
   },
   "notebookName": "Movie Rating ETL",
   "widgets": {}
  },
  "language_info": {
   "name": "python"
  }
 },
 "nbformat": 4,
 "nbformat_minor": 0
}